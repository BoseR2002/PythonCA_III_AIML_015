{
 "cells": [
  {
   "cell_type": "markdown",
   "id": "dc6357be-1f58-411c-88ed-c5ad8387d9d0",
   "metadata": {},
   "source": [
    "import numpy as np\n",
    "import pandas as pd"
   ]
  },
  {
   "cell_type": "markdown",
   "id": "e241cf24-0d96-43ba-9f55-1dbb4f9b02a0",
   "metadata": {},
   "source": [
    "#### Question 1"
   ]
  },
  {
   "cell_type": "code",
   "execution_count": 3,
   "id": "a2ec71ff-489d-48a2-bfbe-9f3f9a84b414",
   "metadata": {},
   "outputs": [],
   "source": [
    "df=pd.read_csv(\"IPL_13.csv\")"
   ]
  },
  {
   "cell_type": "markdown",
   "id": "2949d836-1af7-4f75-9551-86be4daaae5b",
   "metadata": {},
   "source": [
    "### Question 2"
   ]
  },
  {
   "cell_type": "code",
   "execution_count": 7,
   "id": "3bd094e6-52c4-42d9-ba36-34315eb44778",
   "metadata": {},
   "outputs": [
    {
     "data": {
      "text/html": [
       "<div>\n",
       "<style scoped>\n",
       "    .dataframe tbody tr th:only-of-type {\n",
       "        vertical-align: middle;\n",
       "    }\n",
       "\n",
       "    .dataframe tbody tr th {\n",
       "        vertical-align: top;\n",
       "    }\n",
       "\n",
       "    .dataframe thead th {\n",
       "        text-align: right;\n",
       "    }\n",
       "</style>\n",
       "<table border=\"1\" class=\"dataframe\">\n",
       "  <thead>\n",
       "    <tr style=\"text-align: right;\">\n",
       "      <th></th>\n",
       "      <th>Sl.NO.</th>\n",
       "      <th>PLAYER NAME</th>\n",
       "      <th>AGE</th>\n",
       "      <th>COUNTRY</th>\n",
       "      <th>TEAM</th>\n",
       "      <th>PLAYING ROLE</th>\n",
       "      <th>T-RUNS</th>\n",
       "      <th>T-WKTS</th>\n",
       "      <th>ODI-RUNS-S</th>\n",
       "      <th>ODI-SR-B</th>\n",
       "      <th>...</th>\n",
       "      <th>SR-B</th>\n",
       "      <th>SIXERS</th>\n",
       "      <th>RUNS-C</th>\n",
       "      <th>WKTS</th>\n",
       "      <th>AVE-BL</th>\n",
       "      <th>ECON</th>\n",
       "      <th>SR-BL</th>\n",
       "      <th>AUCTION YEAR</th>\n",
       "      <th>BASE PRICE</th>\n",
       "      <th>SOLD PRICE</th>\n",
       "    </tr>\n",
       "  </thead>\n",
       "  <tbody>\n",
       "    <tr>\n",
       "      <th>0</th>\n",
       "      <td>1</td>\n",
       "      <td>Abdulla, YA</td>\n",
       "      <td>2</td>\n",
       "      <td>SA</td>\n",
       "      <td>KXIP</td>\n",
       "      <td>Allrounder</td>\n",
       "      <td>0</td>\n",
       "      <td>0</td>\n",
       "      <td>0</td>\n",
       "      <td>0.00</td>\n",
       "      <td>...</td>\n",
       "      <td>0.00</td>\n",
       "      <td>0</td>\n",
       "      <td>307</td>\n",
       "      <td>15</td>\n",
       "      <td>20.47</td>\n",
       "      <td>8.90</td>\n",
       "      <td>13.93</td>\n",
       "      <td>2009</td>\n",
       "      <td>50000</td>\n",
       "      <td>50000</td>\n",
       "    </tr>\n",
       "    <tr>\n",
       "      <th>1</th>\n",
       "      <td>2</td>\n",
       "      <td>Abdur Razzak</td>\n",
       "      <td>2</td>\n",
       "      <td>BAN</td>\n",
       "      <td>RCB</td>\n",
       "      <td>Bowler</td>\n",
       "      <td>214</td>\n",
       "      <td>18</td>\n",
       "      <td>657</td>\n",
       "      <td>71.41</td>\n",
       "      <td>...</td>\n",
       "      <td>0.00</td>\n",
       "      <td>0</td>\n",
       "      <td>29</td>\n",
       "      <td>0</td>\n",
       "      <td>0.00</td>\n",
       "      <td>14.50</td>\n",
       "      <td>0.00</td>\n",
       "      <td>2008</td>\n",
       "      <td>50000</td>\n",
       "      <td>50000</td>\n",
       "    </tr>\n",
       "    <tr>\n",
       "      <th>2</th>\n",
       "      <td>3</td>\n",
       "      <td>Agarkar, AB</td>\n",
       "      <td>2</td>\n",
       "      <td>IND</td>\n",
       "      <td>KKR</td>\n",
       "      <td>Bowler</td>\n",
       "      <td>571</td>\n",
       "      <td>58</td>\n",
       "      <td>1269</td>\n",
       "      <td>80.62</td>\n",
       "      <td>...</td>\n",
       "      <td>121.01</td>\n",
       "      <td>5</td>\n",
       "      <td>1059</td>\n",
       "      <td>29</td>\n",
       "      <td>36.52</td>\n",
       "      <td>8.81</td>\n",
       "      <td>24.90</td>\n",
       "      <td>2008</td>\n",
       "      <td>200000</td>\n",
       "      <td>350000</td>\n",
       "    </tr>\n",
       "    <tr>\n",
       "      <th>3</th>\n",
       "      <td>4</td>\n",
       "      <td>Ashwin, R</td>\n",
       "      <td>1</td>\n",
       "      <td>IND</td>\n",
       "      <td>CSK</td>\n",
       "      <td>Bowler</td>\n",
       "      <td>284</td>\n",
       "      <td>31</td>\n",
       "      <td>241</td>\n",
       "      <td>84.56</td>\n",
       "      <td>...</td>\n",
       "      <td>76.32</td>\n",
       "      <td>0</td>\n",
       "      <td>1125</td>\n",
       "      <td>49</td>\n",
       "      <td>22.96</td>\n",
       "      <td>6.23</td>\n",
       "      <td>22.14</td>\n",
       "      <td>2011</td>\n",
       "      <td>100000</td>\n",
       "      <td>850000</td>\n",
       "    </tr>\n",
       "    <tr>\n",
       "      <th>4</th>\n",
       "      <td>5</td>\n",
       "      <td>Badrinath, S</td>\n",
       "      <td>2</td>\n",
       "      <td>IND</td>\n",
       "      <td>CSK</td>\n",
       "      <td>Batsman</td>\n",
       "      <td>63</td>\n",
       "      <td>0</td>\n",
       "      <td>79</td>\n",
       "      <td>45.93</td>\n",
       "      <td>...</td>\n",
       "      <td>120.71</td>\n",
       "      <td>28</td>\n",
       "      <td>0</td>\n",
       "      <td>0</td>\n",
       "      <td>0.00</td>\n",
       "      <td>0.00</td>\n",
       "      <td>0.00</td>\n",
       "      <td>2011</td>\n",
       "      <td>100000</td>\n",
       "      <td>800000</td>\n",
       "    </tr>\n",
       "  </tbody>\n",
       "</table>\n",
       "<p>5 rows × 26 columns</p>\n",
       "</div>"
      ],
      "text/plain": [
       "   Sl.NO.   PLAYER NAME  AGE COUNTRY  TEAM PLAYING ROLE  T-RUNS  T-WKTS  \\\n",
       "0       1   Abdulla, YA    2      SA  KXIP   Allrounder       0       0   \n",
       "1       2  Abdur Razzak    2     BAN   RCB       Bowler     214      18   \n",
       "2       3   Agarkar, AB    2     IND   KKR       Bowler     571      58   \n",
       "3       4     Ashwin, R    1     IND   CSK       Bowler     284      31   \n",
       "4       5  Badrinath, S    2     IND   CSK      Batsman      63       0   \n",
       "\n",
       "   ODI-RUNS-S  ODI-SR-B  ...    SR-B  SIXERS  RUNS-C  WKTS  AVE-BL   ECON  \\\n",
       "0           0      0.00  ...    0.00       0     307    15   20.47   8.90   \n",
       "1         657     71.41  ...    0.00       0      29     0    0.00  14.50   \n",
       "2        1269     80.62  ...  121.01       5    1059    29   36.52   8.81   \n",
       "3         241     84.56  ...   76.32       0    1125    49   22.96   6.23   \n",
       "4          79     45.93  ...  120.71      28       0     0    0.00   0.00   \n",
       "\n",
       "   SR-BL  AUCTION YEAR  BASE PRICE  SOLD PRICE  \n",
       "0  13.93          2009       50000       50000  \n",
       "1   0.00          2008       50000       50000  \n",
       "2  24.90          2008      200000      350000  \n",
       "3  22.14          2011      100000      850000  \n",
       "4   0.00          2011      100000      800000  \n",
       "\n",
       "[5 rows x 26 columns]"
      ]
     },
     "execution_count": 7,
     "metadata": {},
     "output_type": "execute_result"
    }
   ],
   "source": [
    "df.head()"
   ]
  },
  {
   "cell_type": "markdown",
   "id": "da5a1847-0edb-46bc-b1db-a76a3b1ede4a",
   "metadata": {},
   "source": [
    "### Question 3\n"
   ]
  },
  {
   "cell_type": "code",
   "execution_count": 12,
   "id": "07d07ff5-803f-41a6-9795-a13cdc0d2520",
   "metadata": {},
   "outputs": [],
   "source": [
    "metadata={\n",
    "    'Shape': df.shape,\n",
    "    'Columns': df.columns.tolist(),\n",
    "    'Data Types': df.dtypes.to_dict(),\n",
    "    'Number of Missing Values': df.isnull().sum().to_dict(),\n",
    "    'Memory Usage': df.memory_usage(deep=True).sum()\n",
    "}"
   ]
  },
  {
   "cell_type": "code",
   "execution_count": 16,
   "id": "66676e5a-a72c-41ff-b140-f2775b4ae82e",
   "metadata": {},
   "outputs": [
    {
     "name": "stdout",
     "output_type": "stream",
     "text": [
      "Shape : (130, 26)\n",
      "Columns : ['Sl.NO.', 'PLAYER NAME', 'AGE', 'COUNTRY', 'TEAM', 'PLAYING ROLE', 'T-RUNS', 'T-WKTS', 'ODI-RUNS-S', 'ODI-SR-B', 'ODI-WKTS', 'ODI-SR-BL', 'CAPTAINCY EXP', 'RUNS-S', 'HS', 'AVE', 'SR-B', 'SIXERS', 'RUNS-C', 'WKTS', 'AVE-BL', 'ECON', 'SR-BL', 'AUCTION YEAR', 'BASE PRICE', 'SOLD PRICE']\n",
      "Data Types : {'Sl.NO.': dtype('int64'), 'PLAYER NAME': dtype('O'), 'AGE': dtype('int64'), 'COUNTRY': dtype('O'), 'TEAM': dtype('O'), 'PLAYING ROLE': dtype('O'), 'T-RUNS': dtype('int64'), 'T-WKTS': dtype('int64'), 'ODI-RUNS-S': dtype('int64'), 'ODI-SR-B': dtype('float64'), 'ODI-WKTS': dtype('int64'), 'ODI-SR-BL': dtype('float64'), 'CAPTAINCY EXP': dtype('int64'), 'RUNS-S': dtype('int64'), 'HS': dtype('int64'), 'AVE': dtype('float64'), 'SR-B': dtype('float64'), 'SIXERS': dtype('int64'), 'RUNS-C': dtype('int64'), 'WKTS': dtype('int64'), 'AVE-BL': dtype('float64'), 'ECON': dtype('float64'), 'SR-BL': dtype('float64'), 'AUCTION YEAR': dtype('int64'), 'BASE PRICE': dtype('int64'), 'SOLD PRICE': dtype('int64')}\n",
      "Number of Missing Values : {'Sl.NO.': 0, 'PLAYER NAME': 0, 'AGE': 0, 'COUNTRY': 0, 'TEAM': 0, 'PLAYING ROLE': 0, 'T-RUNS': 0, 'T-WKTS': 0, 'ODI-RUNS-S': 0, 'ODI-SR-B': 0, 'ODI-WKTS': 0, 'ODI-SR-BL': 0, 'CAPTAINCY EXP': 0, 'RUNS-S': 0, 'HS': 0, 'AVE': 0, 'SR-B': 0, 'SIXERS': 0, 'RUNS-C': 0, 'WKTS': 0, 'AVE-BL': 0, 'ECON': 0, 'SR-BL': 0, 'AUCTION YEAR': 0, 'BASE PRICE': 0, 'SOLD PRICE': 0}\n",
      "Memory Usage : 51626\n"
     ]
    }
   ],
   "source": [
    "for key, value in metadata.items():\n",
    "    print(f\"{key} : {value}\")"
   ]
  },
  {
   "cell_type": "markdown",
   "id": "f82663f4-6f49-458c-9b1d-716a89c5c382",
   "metadata": {},
   "source": [
    "### Question 4"
   ]
  },
  {
   "cell_type": "code",
   "execution_count": 21,
   "id": "479bd5d2-35c3-42f9-b03b-7d565b0ea4a1",
   "metadata": {},
   "outputs": [
    {
     "data": {
      "text/html": [
       "<div>\n",
       "<style scoped>\n",
       "    .dataframe tbody tr th:only-of-type {\n",
       "        vertical-align: middle;\n",
       "    }\n",
       "\n",
       "    .dataframe tbody tr th {\n",
       "        vertical-align: top;\n",
       "    }\n",
       "\n",
       "    .dataframe thead th {\n",
       "        text-align: right;\n",
       "    }\n",
       "</style>\n",
       "<table border=\"1\" class=\"dataframe\">\n",
       "  <thead>\n",
       "    <tr style=\"text-align: right;\">\n",
       "      <th></th>\n",
       "      <th>Sl.NO.</th>\n",
       "      <th>AGE</th>\n",
       "      <th>T-RUNS</th>\n",
       "      <th>T-WKTS</th>\n",
       "      <th>ODI-RUNS-S</th>\n",
       "      <th>ODI-SR-B</th>\n",
       "      <th>ODI-WKTS</th>\n",
       "      <th>ODI-SR-BL</th>\n",
       "      <th>CAPTAINCY EXP</th>\n",
       "      <th>RUNS-S</th>\n",
       "      <th>...</th>\n",
       "      <th>SR-B</th>\n",
       "      <th>SIXERS</th>\n",
       "      <th>RUNS-C</th>\n",
       "      <th>WKTS</th>\n",
       "      <th>AVE-BL</th>\n",
       "      <th>ECON</th>\n",
       "      <th>SR-BL</th>\n",
       "      <th>AUCTION YEAR</th>\n",
       "      <th>BASE PRICE</th>\n",
       "      <th>SOLD PRICE</th>\n",
       "    </tr>\n",
       "  </thead>\n",
       "  <tbody>\n",
       "    <tr>\n",
       "      <th>count</th>\n",
       "      <td>130.000000</td>\n",
       "      <td>130.000000</td>\n",
       "      <td>130.000000</td>\n",
       "      <td>130.000000</td>\n",
       "      <td>130.000000</td>\n",
       "      <td>130.000000</td>\n",
       "      <td>130.000000</td>\n",
       "      <td>130.000000</td>\n",
       "      <td>130.000000</td>\n",
       "      <td>130.000000</td>\n",
       "      <td>...</td>\n",
       "      <td>130.000000</td>\n",
       "      <td>130.000000</td>\n",
       "      <td>130.000000</td>\n",
       "      <td>130.000000</td>\n",
       "      <td>130.000000</td>\n",
       "      <td>130.000000</td>\n",
       "      <td>130.000000</td>\n",
       "      <td>130.000000</td>\n",
       "      <td>1.300000e+02</td>\n",
       "      <td>1.300000e+02</td>\n",
       "    </tr>\n",
       "    <tr>\n",
       "      <th>mean</th>\n",
       "      <td>65.500000</td>\n",
       "      <td>2.092308</td>\n",
       "      <td>2166.715385</td>\n",
       "      <td>66.530769</td>\n",
       "      <td>2508.738462</td>\n",
       "      <td>71.164385</td>\n",
       "      <td>76.076923</td>\n",
       "      <td>34.033846</td>\n",
       "      <td>0.315385</td>\n",
       "      <td>514.246154</td>\n",
       "      <td>...</td>\n",
       "      <td>111.053462</td>\n",
       "      <td>17.692308</td>\n",
       "      <td>475.523077</td>\n",
       "      <td>17.169231</td>\n",
       "      <td>23.110231</td>\n",
       "      <td>6.204462</td>\n",
       "      <td>17.382615</td>\n",
       "      <td>2009.092308</td>\n",
       "      <td>1.922308e+05</td>\n",
       "      <td>5.212231e+05</td>\n",
       "    </tr>\n",
       "    <tr>\n",
       "      <th>std</th>\n",
       "      <td>37.671829</td>\n",
       "      <td>0.576627</td>\n",
       "      <td>3305.646757</td>\n",
       "      <td>142.676855</td>\n",
       "      <td>3582.205625</td>\n",
       "      <td>25.898440</td>\n",
       "      <td>111.205070</td>\n",
       "      <td>26.751749</td>\n",
       "      <td>0.466466</td>\n",
       "      <td>615.226335</td>\n",
       "      <td>...</td>\n",
       "      <td>35.928907</td>\n",
       "      <td>23.828146</td>\n",
       "      <td>558.314049</td>\n",
       "      <td>21.816763</td>\n",
       "      <td>20.802057</td>\n",
       "      <td>4.941531</td>\n",
       "      <td>15.273422</td>\n",
       "      <td>1.377821</td>\n",
       "      <td>1.530973e+05</td>\n",
       "      <td>4.068074e+05</td>\n",
       "    </tr>\n",
       "    <tr>\n",
       "      <th>min</th>\n",
       "      <td>1.000000</td>\n",
       "      <td>1.000000</td>\n",
       "      <td>0.000000</td>\n",
       "      <td>0.000000</td>\n",
       "      <td>0.000000</td>\n",
       "      <td>0.000000</td>\n",
       "      <td>0.000000</td>\n",
       "      <td>0.000000</td>\n",
       "      <td>0.000000</td>\n",
       "      <td>0.000000</td>\n",
       "      <td>...</td>\n",
       "      <td>0.000000</td>\n",
       "      <td>0.000000</td>\n",
       "      <td>0.000000</td>\n",
       "      <td>0.000000</td>\n",
       "      <td>0.000000</td>\n",
       "      <td>0.000000</td>\n",
       "      <td>0.000000</td>\n",
       "      <td>2008.000000</td>\n",
       "      <td>2.000000e+04</td>\n",
       "      <td>2.000000e+04</td>\n",
       "    </tr>\n",
       "    <tr>\n",
       "      <th>25%</th>\n",
       "      <td>33.250000</td>\n",
       "      <td>2.000000</td>\n",
       "      <td>25.500000</td>\n",
       "      <td>0.000000</td>\n",
       "      <td>73.250000</td>\n",
       "      <td>65.650000</td>\n",
       "      <td>0.000000</td>\n",
       "      <td>0.000000</td>\n",
       "      <td>0.000000</td>\n",
       "      <td>39.000000</td>\n",
       "      <td>...</td>\n",
       "      <td>98.237500</td>\n",
       "      <td>1.000000</td>\n",
       "      <td>0.000000</td>\n",
       "      <td>0.000000</td>\n",
       "      <td>0.000000</td>\n",
       "      <td>0.000000</td>\n",
       "      <td>0.000000</td>\n",
       "      <td>2008.000000</td>\n",
       "      <td>1.000000e+05</td>\n",
       "      <td>2.250000e+05</td>\n",
       "    </tr>\n",
       "    <tr>\n",
       "      <th>50%</th>\n",
       "      <td>65.500000</td>\n",
       "      <td>2.000000</td>\n",
       "      <td>542.500000</td>\n",
       "      <td>7.000000</td>\n",
       "      <td>835.000000</td>\n",
       "      <td>78.225000</td>\n",
       "      <td>18.500000</td>\n",
       "      <td>36.600000</td>\n",
       "      <td>0.000000</td>\n",
       "      <td>172.000000</td>\n",
       "      <td>...</td>\n",
       "      <td>118.510000</td>\n",
       "      <td>6.000000</td>\n",
       "      <td>297.000000</td>\n",
       "      <td>8.500000</td>\n",
       "      <td>24.785000</td>\n",
       "      <td>7.380000</td>\n",
       "      <td>19.935000</td>\n",
       "      <td>2008.000000</td>\n",
       "      <td>2.000000e+05</td>\n",
       "      <td>4.375000e+05</td>\n",
       "    </tr>\n",
       "    <tr>\n",
       "      <th>75%</th>\n",
       "      <td>97.750000</td>\n",
       "      <td>2.000000</td>\n",
       "      <td>3002.250000</td>\n",
       "      <td>47.500000</td>\n",
       "      <td>3523.500000</td>\n",
       "      <td>86.790000</td>\n",
       "      <td>106.000000</td>\n",
       "      <td>45.325000</td>\n",
       "      <td>1.000000</td>\n",
       "      <td>925.250000</td>\n",
       "      <td>...</td>\n",
       "      <td>129.102500</td>\n",
       "      <td>29.750000</td>\n",
       "      <td>689.250000</td>\n",
       "      <td>23.750000</td>\n",
       "      <td>35.580000</td>\n",
       "      <td>8.247500</td>\n",
       "      <td>26.212500</td>\n",
       "      <td>2011.000000</td>\n",
       "      <td>2.250000e+05</td>\n",
       "      <td>7.000000e+05</td>\n",
       "    </tr>\n",
       "    <tr>\n",
       "      <th>max</th>\n",
       "      <td>130.000000</td>\n",
       "      <td>3.000000</td>\n",
       "      <td>15470.000000</td>\n",
       "      <td>800.000000</td>\n",
       "      <td>18426.000000</td>\n",
       "      <td>116.660000</td>\n",
       "      <td>534.000000</td>\n",
       "      <td>150.000000</td>\n",
       "      <td>1.000000</td>\n",
       "      <td>2254.000000</td>\n",
       "      <td>...</td>\n",
       "      <td>235.490000</td>\n",
       "      <td>129.000000</td>\n",
       "      <td>1975.000000</td>\n",
       "      <td>83.000000</td>\n",
       "      <td>126.300000</td>\n",
       "      <td>38.110000</td>\n",
       "      <td>100.200000</td>\n",
       "      <td>2011.000000</td>\n",
       "      <td>1.350000e+06</td>\n",
       "      <td>1.800000e+06</td>\n",
       "    </tr>\n",
       "  </tbody>\n",
       "</table>\n",
       "<p>8 rows × 22 columns</p>\n",
       "</div>"
      ],
      "text/plain": [
       "           Sl.NO.         AGE        T-RUNS      T-WKTS    ODI-RUNS-S  \\\n",
       "count  130.000000  130.000000    130.000000  130.000000    130.000000   \n",
       "mean    65.500000    2.092308   2166.715385   66.530769   2508.738462   \n",
       "std     37.671829    0.576627   3305.646757  142.676855   3582.205625   \n",
       "min      1.000000    1.000000      0.000000    0.000000      0.000000   \n",
       "25%     33.250000    2.000000     25.500000    0.000000     73.250000   \n",
       "50%     65.500000    2.000000    542.500000    7.000000    835.000000   \n",
       "75%     97.750000    2.000000   3002.250000   47.500000   3523.500000   \n",
       "max    130.000000    3.000000  15470.000000  800.000000  18426.000000   \n",
       "\n",
       "         ODI-SR-B    ODI-WKTS   ODI-SR-BL  CAPTAINCY EXP       RUNS-S  ...  \\\n",
       "count  130.000000  130.000000  130.000000     130.000000   130.000000  ...   \n",
       "mean    71.164385   76.076923   34.033846       0.315385   514.246154  ...   \n",
       "std     25.898440  111.205070   26.751749       0.466466   615.226335  ...   \n",
       "min      0.000000    0.000000    0.000000       0.000000     0.000000  ...   \n",
       "25%     65.650000    0.000000    0.000000       0.000000    39.000000  ...   \n",
       "50%     78.225000   18.500000   36.600000       0.000000   172.000000  ...   \n",
       "75%     86.790000  106.000000   45.325000       1.000000   925.250000  ...   \n",
       "max    116.660000  534.000000  150.000000       1.000000  2254.000000  ...   \n",
       "\n",
       "             SR-B      SIXERS       RUNS-C        WKTS      AVE-BL  \\\n",
       "count  130.000000  130.000000   130.000000  130.000000  130.000000   \n",
       "mean   111.053462   17.692308   475.523077   17.169231   23.110231   \n",
       "std     35.928907   23.828146   558.314049   21.816763   20.802057   \n",
       "min      0.000000    0.000000     0.000000    0.000000    0.000000   \n",
       "25%     98.237500    1.000000     0.000000    0.000000    0.000000   \n",
       "50%    118.510000    6.000000   297.000000    8.500000   24.785000   \n",
       "75%    129.102500   29.750000   689.250000   23.750000   35.580000   \n",
       "max    235.490000  129.000000  1975.000000   83.000000  126.300000   \n",
       "\n",
       "             ECON       SR-BL  AUCTION YEAR    BASE PRICE    SOLD PRICE  \n",
       "count  130.000000  130.000000    130.000000  1.300000e+02  1.300000e+02  \n",
       "mean     6.204462   17.382615   2009.092308  1.922308e+05  5.212231e+05  \n",
       "std      4.941531   15.273422      1.377821  1.530973e+05  4.068074e+05  \n",
       "min      0.000000    0.000000   2008.000000  2.000000e+04  2.000000e+04  \n",
       "25%      0.000000    0.000000   2008.000000  1.000000e+05  2.250000e+05  \n",
       "50%      7.380000   19.935000   2008.000000  2.000000e+05  4.375000e+05  \n",
       "75%      8.247500   26.212500   2011.000000  2.250000e+05  7.000000e+05  \n",
       "max     38.110000  100.200000   2011.000000  1.350000e+06  1.800000e+06  \n",
       "\n",
       "[8 rows x 22 columns]"
      ]
     },
     "execution_count": 21,
     "metadata": {},
     "output_type": "execute_result"
    }
   ],
   "source": [
    "df.describe()\n"
   ]
  },
  {
   "cell_type": "code",
   "execution_count": 23,
   "id": "b793c5f6-906b-4b23-9dc3-7687ddf56d59",
   "metadata": {},
   "outputs": [
    {
     "name": "stdout",
     "output_type": "stream",
     "text": [
      "<class 'pandas.core.frame.DataFrame'>\n",
      "RangeIndex: 130 entries, 0 to 129\n",
      "Data columns (total 26 columns):\n",
      " #   Column         Non-Null Count  Dtype  \n",
      "---  ------         --------------  -----  \n",
      " 0   Sl.NO.         130 non-null    int64  \n",
      " 1   PLAYER NAME    130 non-null    object \n",
      " 2   AGE            130 non-null    int64  \n",
      " 3   COUNTRY        130 non-null    object \n",
      " 4   TEAM           130 non-null    object \n",
      " 5   PLAYING ROLE   130 non-null    object \n",
      " 6   T-RUNS         130 non-null    int64  \n",
      " 7   T-WKTS         130 non-null    int64  \n",
      " 8   ODI-RUNS-S     130 non-null    int64  \n",
      " 9   ODI-SR-B       130 non-null    float64\n",
      " 10  ODI-WKTS       130 non-null    int64  \n",
      " 11  ODI-SR-BL      130 non-null    float64\n",
      " 12  CAPTAINCY EXP  130 non-null    int64  \n",
      " 13  RUNS-S         130 non-null    int64  \n",
      " 14  HS             130 non-null    int64  \n",
      " 15  AVE            130 non-null    float64\n",
      " 16  SR-B           130 non-null    float64\n",
      " 17  SIXERS         130 non-null    int64  \n",
      " 18  RUNS-C         130 non-null    int64  \n",
      " 19  WKTS           130 non-null    int64  \n",
      " 20  AVE-BL         130 non-null    float64\n",
      " 21  ECON           130 non-null    float64\n",
      " 22  SR-BL          130 non-null    float64\n",
      " 23  AUCTION YEAR   130 non-null    int64  \n",
      " 24  BASE PRICE     130 non-null    int64  \n",
      " 25  SOLD PRICE     130 non-null    int64  \n",
      "dtypes: float64(7), int64(15), object(4)\n",
      "memory usage: 26.5+ KB\n"
     ]
    }
   ],
   "source": [
    "df.info()"
   ]
  },
  {
   "cell_type": "markdown",
   "id": "278576ad-3d35-4eb8-8ebe-e84b7ea89b3d",
   "metadata": {},
   "source": [
    "### Question 5"
   ]
  },
  {
   "cell_type": "markdown",
   "id": "1cb9e9d5-3369-4c4d-8ffd-437f7fd42497",
   "metadata": {},
   "source": [
    "#### Indexing"
   ]
  },
  {
   "cell_type": "code",
   "execution_count": 28,
   "id": "ad12e725-07e0-4a6c-aeb7-01e56312f785",
   "metadata": {},
   "outputs": [
    {
     "data": {
      "text/plain": [
       "Sl.NO.                   19\n",
       "PLAYER NAME      Dravid, RS\n",
       "AGE                       3\n",
       "COUNTRY                 IND\n",
       "TEAM                   RCB+\n",
       "PLAYING ROLE        Batsman\n",
       "T-RUNS                13288\n",
       "T-WKTS                    1\n",
       "ODI-RUNS-S            10889\n",
       "ODI-SR-B              71.24\n",
       "ODI-WKTS                  4\n",
       "ODI-SR-BL              46.5\n",
       "CAPTAINCY EXP             1\n",
       "RUNS-S                 1703\n",
       "HS                       75\n",
       "AVE                   27.92\n",
       "SR-B                 116.88\n",
       "SIXERS                   23\n",
       "RUNS-C                    0\n",
       "WKTS                      0\n",
       "AVE-BL                  0.0\n",
       "ECON                    0.0\n",
       "SR-BL                   0.0\n",
       "AUCTION YEAR           2011\n",
       "BASE PRICE           400000\n",
       "SOLD PRICE           500000\n",
       "Name: 18, dtype: object"
      ]
     },
     "execution_count": 28,
     "metadata": {},
     "output_type": "execute_result"
    }
   ],
   "source": [
    "df.loc[18]"
   ]
  },
  {
   "cell_type": "code",
   "execution_count": 30,
   "id": "0a168913-64c5-4887-b523-5ec94e1807b8",
   "metadata": {},
   "outputs": [
    {
     "data": {
      "text/plain": [
       "Sl.NO.                    20\n",
       "PLAYER NAME      Duminy, J-P\n",
       "AGE                        2\n",
       "COUNTRY                   SA\n",
       "TEAM                     MI+\n",
       "PLAYING ROLE         Batsman\n",
       "T-RUNS                   654\n",
       "T-WKTS                    11\n",
       "ODI-RUNS-S              2536\n",
       "ODI-SR-B                84.0\n",
       "ODI-WKTS                  25\n",
       "ODI-SR-BL               47.6\n",
       "CAPTAINCY EXP              0\n",
       "RUNS-S                   978\n",
       "HS                        74\n",
       "AVE                    36.22\n",
       "SR-B                  119.27\n",
       "SIXERS                    35\n",
       "RUNS-C                   377\n",
       "WKTS                      10\n",
       "AVE-BL                  37.7\n",
       "ECON                    7.11\n",
       "SR-BL                   31.8\n",
       "AUCTION YEAR            2009\n",
       "BASE PRICE            300000\n",
       "SOLD PRICE            300000\n",
       "Name: 19, dtype: object"
      ]
     },
     "execution_count": 30,
     "metadata": {},
     "output_type": "execute_result"
    }
   ],
   "source": [
    "df.loc[19]"
   ]
  },
  {
   "cell_type": "code",
   "execution_count": 32,
   "id": "9bcc8de2-146d-4b60-b5db-ec81106dac01",
   "metadata": {},
   "outputs": [
    {
     "data": {
      "text/plain": [
       "Sl.NO.                  18\n",
       "PLAYER NAME      Dinda, AB\n",
       "AGE                      2\n",
       "COUNTRY                IND\n",
       "TEAM                  KKR+\n",
       "PLAYING ROLE        Bowler\n",
       "T-RUNS                   0\n",
       "T-WKTS                   0\n",
       "ODI-RUNS-S              18\n",
       "ODI-SR-B              60.0\n",
       "ODI-WKTS                 5\n",
       "ODI-SR-BL             61.4\n",
       "CAPTAINCY EXP            0\n",
       "RUNS-S                   6\n",
       "HS                       2\n",
       "AVE                    1.0\n",
       "SR-B                 33.33\n",
       "SIXERS                   0\n",
       "RUNS-C                 926\n",
       "WKTS                    36\n",
       "AVE-BL               25.72\n",
       "ECON                  7.29\n",
       "SR-BL                21.19\n",
       "AUCTION YEAR          2011\n",
       "BASE PRICE          100000\n",
       "SOLD PRICE          375000\n",
       "Name: 17, dtype: object"
      ]
     },
     "execution_count": 32,
     "metadata": {},
     "output_type": "execute_result"
    }
   ],
   "source": [
    "df.loc[17]"
   ]
  },
  {
   "cell_type": "markdown",
   "id": "1550dd3d-8385-41be-8098-3ed25865eaac",
   "metadata": {},
   "source": [
    "#### Slicing"
   ]
  },
  {
   "cell_type": "code",
   "execution_count": 35,
   "id": "09401ccf-51a4-414e-95d9-f04feecf92a2",
   "metadata": {},
   "outputs": [
    {
     "data": {
      "text/plain": [
       "4       63\n",
       "5        0\n",
       "6       51\n",
       "7       54\n",
       "8       83\n",
       "9     5515\n",
       "10    2200\n",
       "11    9918\n",
       "12       5\n",
       "13    5457\n",
       "14       0\n",
       "15    3509\n",
       "16    4722\n",
       "Name: T-RUNS, dtype: int64"
      ]
     },
     "execution_count": 35,
     "metadata": {},
     "output_type": "execute_result"
    }
   ],
   "source": [
    "df.iloc[4:17,6]"
   ]
  },
  {
   "cell_type": "code",
   "execution_count": 37,
   "id": "5b71d904-722f-4227-aa45-b35fb0f4a861",
   "metadata": {},
   "outputs": [
    {
     "data": {
      "text/plain": [
       "4      CSK\n",
       "5      CSK\n",
       "6     CSK+\n",
       "7      CSK\n",
       "8       RR\n",
       "9     RCB+\n",
       "10     MI+\n",
       "11     RCB\n",
       "12    KXIP\n",
       "13     DD+\n",
       "14     MI+\n",
       "15     CSK\n",
       "16     DD+\n",
       "Name: TEAM, dtype: object"
      ]
     },
     "execution_count": 37,
     "metadata": {},
     "output_type": "execute_result"
    }
   ],
   "source": [
    "df.iloc[4:17,4]"
   ]
  },
  {
   "cell_type": "markdown",
   "id": "a6ac3371-dfe7-41d5-bf90-12d896d108d8",
   "metadata": {},
   "source": [
    "### Question 6"
   ]
  },
  {
   "cell_type": "code",
   "execution_count": 40,
   "id": "7a1f6f94-05d7-434f-b509-fdf6f683006f",
   "metadata": {},
   "outputs": [
    {
     "data": {
      "text/plain": [
       "0       Abdulla, YA\n",
       "1      Abdur Razzak\n",
       "2       Agarkar, AB\n",
       "3         Ashwin, R\n",
       "4      Badrinath, S\n",
       "           ...     \n",
       "125       Yadav, AS\n",
       "126     Younis Khan\n",
       "127    Yuvraj Singh\n",
       "128     Zaheer Khan\n",
       "129      Zoysa, DNT\n",
       "Name: PLAYER NAME, Length: 130, dtype: object"
      ]
     },
     "execution_count": 40,
     "metadata": {},
     "output_type": "execute_result"
    }
   ],
   "source": [
    "df[\"PLAYER NAME\"]"
   ]
  },
  {
   "cell_type": "markdown",
   "id": "7ba68e55-c2da-4c5a-89e0-bc53d69bd034",
   "metadata": {},
   "source": [
    "### Question 7"
   ]
  },
  {
   "cell_type": "code",
   "execution_count": 79,
   "id": "6fc0dd6b-6e79-4daf-b9b1-7ad4b1da3d7d",
   "metadata": {},
   "outputs": [
    {
     "name": "stdout",
     "output_type": "stream",
     "text": [
      "['SA' 'BAN' 'IND' 'AUS' 'WI' 'SL' 'NZ' 'ENG' 'PAK' 'ZIM']\n"
     ]
    }
   ],
   "source": [
    "print(df[\"COUNTRY\"].unique())"
   ]
  },
  {
   "cell_type": "markdown",
   "id": "41d91ac5-e7e5-41e0-90db-f2056e3fc865",
   "metadata": {},
   "source": [
    "### Question 8"
   ]
  },
  {
   "cell_type": "code",
   "execution_count": 46,
   "id": "9244831c-99b2-4532-9048-cc69ca8ec553",
   "metadata": {},
   "outputs": [
    {
     "data": {
      "text/html": [
       "<div>\n",
       "<style scoped>\n",
       "    .dataframe tbody tr th:only-of-type {\n",
       "        vertical-align: middle;\n",
       "    }\n",
       "\n",
       "    .dataframe tbody tr th {\n",
       "        vertical-align: top;\n",
       "    }\n",
       "\n",
       "    .dataframe thead th {\n",
       "        text-align: right;\n",
       "    }\n",
       "</style>\n",
       "<table border=\"1\" class=\"dataframe\">\n",
       "  <thead>\n",
       "    <tr style=\"text-align: right;\">\n",
       "      <th>PLAYING ROLE</th>\n",
       "      <th>Allrounder</th>\n",
       "      <th>Batsman</th>\n",
       "      <th>Bowler</th>\n",
       "      <th>W. Keeper</th>\n",
       "    </tr>\n",
       "    <tr>\n",
       "      <th>AGE</th>\n",
       "      <th></th>\n",
       "      <th></th>\n",
       "      <th></th>\n",
       "      <th></th>\n",
       "    </tr>\n",
       "  </thead>\n",
       "  <tbody>\n",
       "    <tr>\n",
       "      <th>1</th>\n",
       "      <td>4</td>\n",
       "      <td>5</td>\n",
       "      <td>7</td>\n",
       "      <td>0</td>\n",
       "    </tr>\n",
       "    <tr>\n",
       "      <th>2</th>\n",
       "      <td>25</td>\n",
       "      <td>21</td>\n",
       "      <td>29</td>\n",
       "      <td>11</td>\n",
       "    </tr>\n",
       "    <tr>\n",
       "      <th>3</th>\n",
       "      <td>6</td>\n",
       "      <td>13</td>\n",
       "      <td>8</td>\n",
       "      <td>1</td>\n",
       "    </tr>\n",
       "  </tbody>\n",
       "</table>\n",
       "</div>"
      ],
      "text/plain": [
       "PLAYING ROLE  Allrounder  Batsman  Bowler  W. Keeper\n",
       "AGE                                                 \n",
       "1                      4        5       7          0\n",
       "2                     25       21      29         11\n",
       "3                      6       13       8          1"
      ]
     },
     "execution_count": 46,
     "metadata": {},
     "output_type": "execute_result"
    }
   ],
   "source": [
    "cross_tab=pd.crosstab(df[\"AGE\"],df[\"PLAYING ROLE\"])\n",
    "cross_tab"
   ]
  },
  {
   "cell_type": "markdown",
   "id": "47eb6726-ec74-4d6f-a718-d19a2c54d48f",
   "metadata": {},
   "source": [
    "### Quesion 9"
   ]
  },
  {
   "cell_type": "code",
   "execution_count": 81,
   "id": "fe8ce7bc-60f0-4afe-af20-b6f7bddfc98d",
   "metadata": {},
   "outputs": [
    {
     "name": "stdout",
     "output_type": "stream",
     "text": [
      "93     1800000\n",
      "127    1800000\n",
      "50     1800000\n",
      "111    1800000\n",
      "113    1600000\n",
      "        ...   \n",
      "34       50000\n",
      "5        50000\n",
      "0        50000\n",
      "46       24000\n",
      "73       20000\n",
      "Name: SOLD PRICE, Length: 130, dtype: int64\n"
     ]
    }
   ],
   "source": [
    "sorted_df=df[\"SOLD PRICE\"].sort_values(ascending=False)\n",
    "print (sorted_df)"
   ]
  },
  {
   "cell_type": "code",
   "execution_count": 87,
   "id": "f6c0ce8d-6ed7-4884-87b7-eb58065b8dc4",
   "metadata": {},
   "outputs": [
    {
     "data": {
      "text/html": [
       "<div>\n",
       "<style scoped>\n",
       "    .dataframe tbody tr th:only-of-type {\n",
       "        vertical-align: middle;\n",
       "    }\n",
       "\n",
       "    .dataframe tbody tr th {\n",
       "        vertical-align: top;\n",
       "    }\n",
       "\n",
       "    .dataframe thead th {\n",
       "        text-align: right;\n",
       "    }\n",
       "</style>\n",
       "<table border=\"1\" class=\"dataframe\">\n",
       "  <thead>\n",
       "    <tr style=\"text-align: right;\">\n",
       "      <th></th>\n",
       "      <th>PLAYER NAME</th>\n",
       "      <th>SOLD PRICE</th>\n",
       "    </tr>\n",
       "  </thead>\n",
       "  <tbody>\n",
       "    <tr>\n",
       "      <th>73</th>\n",
       "      <td>Noffke, AA</td>\n",
       "      <td>20000</td>\n",
       "    </tr>\n",
       "    <tr>\n",
       "      <th>46</th>\n",
       "      <td>Kamran Khan</td>\n",
       "      <td>24000</td>\n",
       "    </tr>\n",
       "    <tr>\n",
       "      <th>0</th>\n",
       "      <td>Abdulla, YA</td>\n",
       "      <td>50000</td>\n",
       "    </tr>\n",
       "    <tr>\n",
       "      <th>1</th>\n",
       "      <td>Abdur Razzak</td>\n",
       "      <td>50000</td>\n",
       "    </tr>\n",
       "    <tr>\n",
       "      <th>118</th>\n",
       "      <td>Van der Merwe</td>\n",
       "      <td>50000</td>\n",
       "    </tr>\n",
       "    <tr>\n",
       "      <th>...</th>\n",
       "      <td>...</td>\n",
       "      <td>...</td>\n",
       "    </tr>\n",
       "    <tr>\n",
       "      <th>113</th>\n",
       "      <td>Tiwary, SS</td>\n",
       "      <td>1600000</td>\n",
       "    </tr>\n",
       "    <tr>\n",
       "      <th>111</th>\n",
       "      <td>Tendulkar, SR</td>\n",
       "      <td>1800000</td>\n",
       "    </tr>\n",
       "    <tr>\n",
       "      <th>50</th>\n",
       "      <td>Kohli, V</td>\n",
       "      <td>1800000</td>\n",
       "    </tr>\n",
       "    <tr>\n",
       "      <th>93</th>\n",
       "      <td>Sehwag, V</td>\n",
       "      <td>1800000</td>\n",
       "    </tr>\n",
       "    <tr>\n",
       "      <th>127</th>\n",
       "      <td>Yuvraj Singh</td>\n",
       "      <td>1800000</td>\n",
       "    </tr>\n",
       "  </tbody>\n",
       "</table>\n",
       "<p>130 rows × 2 columns</p>\n",
       "</div>"
      ],
      "text/plain": [
       "       PLAYER NAME  SOLD PRICE\n",
       "73      Noffke, AA       20000\n",
       "46     Kamran Khan       24000\n",
       "0      Abdulla, YA       50000\n",
       "1     Abdur Razzak       50000\n",
       "118  Van der Merwe       50000\n",
       "..             ...         ...\n",
       "113     Tiwary, SS     1600000\n",
       "111  Tendulkar, SR     1800000\n",
       "50        Kohli, V     1800000\n",
       "93       Sehwag, V     1800000\n",
       "127   Yuvraj Singh     1800000\n",
       "\n",
       "[130 rows x 2 columns]"
      ]
     },
     "execution_count": 87,
     "metadata": {},
     "output_type": "execute_result"
    }
   ],
   "source": [
    "df.loc[:,[\"PLAYER NAME\",\"SOLD PRICE\"]].sort_values(by='SOLD PRICE',ascending=True)"
   ]
  },
  {
   "cell_type": "markdown",
   "id": "117896e0-136a-4076-912a-7e8675958a5e",
   "metadata": {},
   "source": [
    "### Question 10"
   ]
  },
  {
   "cell_type": "code",
   "execution_count": 62,
   "id": "a1ea3e7c-98e1-4314-b954-d2d0e63a83b0",
   "metadata": {},
   "outputs": [
    {
     "name": "stdout",
     "output_type": "stream",
     "text": [
      "0            0\n",
      "40           0\n",
      "45           0\n",
      "49           0\n",
      "58           0\n",
      "        ...   \n",
      "93     1400000\n",
      "127    1400000\n",
      "111    1400000\n",
      "113    1500000\n",
      "50     1650000\n",
      "Name: PREMIUM, Length: 130, dtype: int64\n"
     ]
    }
   ],
   "source": [
    "df['PREMIUM']=df['SOLD PRICE']-df['BASE PRICE']\n",
    "sorted_df=df['PREMIUM'].sort_values()\n",
    "print (sorted_df)"
   ]
  },
  {
   "cell_type": "markdown",
   "id": "3a9bfc11-5ba2-4c03-a597-79768f67093a",
   "metadata": {},
   "source": [
    "#### MAXIMUM PREMIUM"
   ]
  },
  {
   "cell_type": "code",
   "execution_count": 75,
   "id": "aaab802a-45b6-430e-98a9-c697d9403a23",
   "metadata": {},
   "outputs": [
    {
     "name": "stdout",
     "output_type": "stream",
     "text": [
      "Sl.NO.                 51\n",
      "PLAYER NAME      Kohli, V\n",
      "AGE                     1\n",
      "COUNTRY               IND\n",
      "TEAM                  RCB\n",
      "PLAYING ROLE      Batsman\n",
      "T-RUNS                491\n",
      "T-WKTS                  0\n",
      "ODI-RUNS-S           3590\n",
      "ODI-SR-B            86.31\n",
      "ODI-WKTS                2\n",
      "ODI-SR-BL           137.0\n",
      "CAPTAINCY EXP           1\n",
      "RUNS-S               1639\n",
      "HS                     73\n",
      "AVE                 28.26\n",
      "SR-B               119.29\n",
      "SIXERS                 49\n",
      "RUNS-C                345\n",
      "WKTS                    4\n",
      "AVE-BL              86.25\n",
      "ECON                 8.84\n",
      "SR-BL                58.5\n",
      "AUCTION YEAR         2011\n",
      "BASE PRICE         150000\n",
      "SOLD PRICE        1800000\n",
      "PRESIUM           1650000\n",
      "PREMIUM           1650000\n",
      "Name: 50, dtype: object\n"
     ]
    }
   ],
   "source": [
    "max_premium_player = df.loc[df['PREMIUM'].idxmax()]\n",
    "print(max_premium_player)"
   ]
  },
  {
   "cell_type": "code",
   "execution_count": 95,
   "id": "ce31632b-4e9a-48ed-8ab8-ac1e1138fb6f",
   "metadata": {},
   "outputs": [
    {
     "data": {
      "text/html": [
       "<div>\n",
       "<style scoped>\n",
       "    .dataframe tbody tr th:only-of-type {\n",
       "        vertical-align: middle;\n",
       "    }\n",
       "\n",
       "    .dataframe tbody tr th {\n",
       "        vertical-align: top;\n",
       "    }\n",
       "\n",
       "    .dataframe thead th {\n",
       "        text-align: right;\n",
       "    }\n",
       "</style>\n",
       "<table border=\"1\" class=\"dataframe\">\n",
       "  <thead>\n",
       "    <tr style=\"text-align: right;\">\n",
       "      <th></th>\n",
       "      <th>PLAYER NAME</th>\n",
       "      <th>PREMIUM</th>\n",
       "    </tr>\n",
       "  </thead>\n",
       "  <tbody>\n",
       "    <tr>\n",
       "      <th>50</th>\n",
       "      <td>Kohli, V</td>\n",
       "      <td>1650000</td>\n",
       "    </tr>\n",
       "  </tbody>\n",
       "</table>\n",
       "</div>"
      ],
      "text/plain": [
       "   PLAYER NAME  PREMIUM\n",
       "50    Kohli, V  1650000"
      ]
     },
     "execution_count": 95,
     "metadata": {},
     "output_type": "execute_result"
    }
   ],
   "source": [
    "#df['PREMIUM']=df['SOLD PRICE']-df['BASE PRICE']\n",
    "max=df['PREMIUM'].max()\n",
    "df.loc[df['PREMIUM']==max,['PLAYER NAME','PREMIUM']]"
   ]
  },
  {
   "cell_type": "markdown",
   "id": "ed1afc89-6455-4696-b8d8-00590793f283",
   "metadata": {},
   "source": [
    "### Question 11"
   ]
  },
  {
   "cell_type": "code",
   "execution_count": 110,
   "id": "12f313a6-f670-41e4-ac56-a3c55b77c32c",
   "metadata": {},
   "outputs": [
    {
     "name": "stdout",
     "output_type": "stream",
     "text": [
      "       PLAYER NAME  PREMIUM\n",
      "50        Kohli, V  1650000\n",
      "113     Tiwary, SS  1500000\n",
      "127   Yuvraj Singh  1400000\n",
      "111  Tendulkar, SR  1400000\n",
      "93       Sehwag, V  1400000\n",
      "108     Symonds, A  1100000\n",
      "15       Dhoni, MS  1100000\n",
      "39      Jadeja, RA   850000\n",
      "95       Sharma, I   800000\n",
      "3        Ashwin, R   750000\n"
     ]
    }
   ],
   "source": [
    "top_10=df.sort_values(by=['PREMIUM'],ascending=False).head(10)\n",
    "print(top_10[['PLAYER NAME','PREMIUM']])"
   ]
  },
  {
   "cell_type": "markdown",
   "id": "3a1f4939-57d6-43e3-a1ba-225aa0969465",
   "metadata": {},
   "source": [
    "### Question 12"
   ]
  },
  {
   "cell_type": "code",
   "execution_count": 115,
   "id": "525223ca-6972-434a-8f98-dde01c1eab88",
   "metadata": {},
   "outputs": [
    {
     "name": "stdout",
     "output_type": "stream",
     "text": [
      "Age1=Average Sold Price :720250.0\n",
      "Age2=Average Sold Price :484534.88372093026\n",
      "Age3=Average Sold Price :520178.5714285714\n"
     ]
    }
   ],
   "source": [
    "age_groups=df.groupby('AGE')['SOLD PRICE'].mean()\n",
    "for x,y in age_groups.items():\n",
    "    print(f\"Age{x}=Average Sold Price :{y}\")"
   ]
  },
  {
   "cell_type": "markdown",
   "id": "a1993cd8-2943-485b-8d77-72c0b5393dd6",
   "metadata": {},
   "source": [
    "### Question 13"
   ]
  },
  {
   "cell_type": "code",
   "execution_count": 120,
   "id": "df54796c-d618-4359-9809-38854e37bdbb",
   "metadata": {},
   "outputs": [
    {
     "name": "stdout",
     "output_type": "stream",
     "text": [
      "Age1=Average Sold Price :587500.0,Playing Role:Allrounder\n",
      "Age1=Average Sold Price :1110000.0,Playing Role:Batsman\n",
      "Age1=Average Sold Price :517714.28571428574,Playing Role:Bowler\n",
      "Age2=Average Sold Price :449400.0,Playing Role:Allrounder\n",
      "Age2=Average Sold Price :654761.9047619047,Playing Role:Batsman\n",
      "Age2=Average Sold Price :397931.0344827586,Playing Role:Bowler\n",
      "Age2=Average Sold Price :467727.2727272727,Playing Role:W. Keeper\n",
      "Age3=Average Sold Price :766666.6666666666,Playing Role:Allrounder\n",
      "Age3=Average Sold Price :457692.3076923077,Playing Role:Batsman\n",
      "Age3=Average Sold Price :414375.0,Playing Role:Bowler\n",
      "Age3=Average Sold Price :700000.0,Playing Role:W. Keeper\n"
     ]
    }
   ],
   "source": [
    "age_playing_role_groups=df.groupby(['AGE','PLAYING ROLE'])['SOLD PRICE'].mean()\n",
    "for (age, playing_role),avg_sold_price in age_playing_role_groups.items():\n",
    "    print(f\"Age{age}=Average Sold Price :{avg_sold_price},Playing Role:{playing_role}\")"
   ]
  },
  {
   "cell_type": "code",
   "execution_count": null,
   "id": "4ed18266-4f0e-4a5e-af28-ebd690cbab21",
   "metadata": {},
   "outputs": [],
   "source": []
  }
 ],
 "metadata": {
  "kernelspec": {
   "display_name": "Python 3 (ipykernel)",
   "language": "python",
   "name": "python3"
  },
  "language_info": {
   "codemirror_mode": {
    "name": "ipython",
    "version": 3
   },
   "file_extension": ".py",
   "mimetype": "text/x-python",
   "name": "python",
   "nbconvert_exporter": "python",
   "pygments_lexer": "ipython3",
   "version": "3.12.7"
  }
 },
 "nbformat": 4,
 "nbformat_minor": 5
}
